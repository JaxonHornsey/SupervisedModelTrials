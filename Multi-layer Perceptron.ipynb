{
 "cells": [
  {
   "cell_type": "code",
   "execution_count": 2,
   "id": "60cd18ab",
   "metadata": {},
   "outputs": [],
   "source": [
    "import pandas as pd \n",
    "\n",
    "names = [\"edible\",\"cap-shape\",\"cap-surface\", \"cap-color\",\"bruises\",\"odor\",\"gill-attachment\",\"gill-spacing\",\"gill-size\",\"gill-color\",\"stalk-shape\",\"stalk-root\",\"stalk-surface-above-ring\",\"stock-surface-below-ring\",\"stalk-color-above-ring\",\"stalk-color-below-ring\",\"viel-type\",\"viel-color\",\"ring number\",\"ring-type\",\"spore-print-color\",\"population\",\"habitat\"]\n",
    "dataset = pd.read_csv('mush.csv',names = names)"
   ]
  },
  {
   "cell_type": "code",
   "execution_count": 3,
   "id": "85146e47",
   "metadata": {},
   "outputs": [],
   "source": [
    "from ctypes import PyDLL\n",
    "import pandas as pd #need pandas to store data and dataframe \n",
    "import numpy as np\n",
    "import matplotlib.pyplot as plt\n",
    "\n",
    "from sklearn.preprocessing import OrdinalEncoder #to convert strings to numbers\n",
    "from sklearn.model_selection import train_test_split \n",
    "from sklearn.svm import SVC #support vector classifier\n",
    "from sklearn.metrics import classification_report #evaluation matrix \n",
    "from sklearn.preprocessing import StandardScaler\n",
    "from sklearn.metrics import r2_score\n",
    "from sklearn.neural_network import MLPClassifier\n",
    "\n",
    "enc = OrdinalEncoder()\n",
    "X = dataset.drop('edible', axis=1) #corresponding attributes \n",
    "y = dataset['edible'] #corresponding label (trying to predict)\n",
    "#print(x.head)\n",
    "#print(y.head)\n",
    "y = y.values.reshape(-1,1)\n",
    "\n",
    "encodedx = enc.fit_transform(X)\n",
    "#print(encodedx)\n",
    "encodedy = enc.fit_transform(y)\n",
    "#print(encodedy[0:15])\n"
   ]
  },
  {
   "cell_type": "code",
   "execution_count": 4,
   "id": "e81f52e5",
   "metadata": {},
   "outputs": [],
   "source": [
    "from sklearn.model_selection import train_test_split\n",
    "trainX, testX, trainY, testY = train_test_split(encodedx, encodedy, test_size=0.2,random_state=1)"
   ]
  },
  {
   "cell_type": "code",
   "execution_count": 5,
   "id": "be82dfa6",
   "metadata": {},
   "outputs": [],
   "source": [
    "sc=StandardScaler()\n",
    "\n",
    "scaler = sc.fit(trainX)\n",
    "trainX_scaled = scaler.transform(trainX)\n",
    "testX_scaled = scaler.transform(testX)"
   ]
  },
  {
   "cell_type": "code",
   "execution_count": 6,
   "id": "fda18ed9",
   "metadata": {},
   "outputs": [
    {
     "data": {
      "text/plain": [
       "MLPClassifier(alpha=1, hidden_layer_sizes=1, max_iter=2000)"
      ]
     },
     "execution_count": 6,
     "metadata": {},
     "output_type": "execute_result"
    }
   ],
   "source": [
    "mlp_clf = MLPClassifier(\n",
    "                        max_iter = 2000,activation = 'relu',\n",
    "                        solver = 'adam', hidden_layer_sizes = 1,alpha =1)\n",
    "\n",
    "\n",
    "mlp_clf.fit(trainX_scaled, trainY.ravel())"
   ]
  },
  {
   "cell_type": "code",
   "execution_count": 7,
   "id": "2c7d558b",
   "metadata": {},
   "outputs": [
    {
     "name": "stdout",
     "output_type": "stream",
     "text": [
      "Accuracy: 0.96\n"
     ]
    }
   ],
   "source": [
    "from sklearn.metrics import accuracy_score\n",
    "y_pred = mlp_clf.predict(testX_scaled)\n",
    "\n",
    "print('Accuracy: {:.2f}'.format(accuracy_score(testY, y_pred)))"
   ]
  },
  {
   "cell_type": "code",
   "execution_count": 10,
   "id": "4f9fa456",
   "metadata": {},
   "outputs": [
    {
     "name": "stdout",
     "output_type": "stream",
     "text": [
      "--- 1.0019118785858154 seconds ---\n"
     ]
    },
    {
     "data": {
      "image/png": "[encoded data removed]",
      "text/plain": [
       "<Figure size 432x288 with 2 Axes>"
      ]
     },
     "metadata": {
      "needs_background": "light"
     },
     "output_type": "display_data"
    },
    {
     "name": "stdout",
     "output_type": "stream",
     "text": [
      " \n",
      "Confusion Matrix:\n"
     ]
    },
    {
     "data": {
      "image/png": "[encoded data removed]",
      "text/plain": [
       "<Figure size 504x504 with 2 Axes>"
      ]
     },
     "metadata": {
      "needs_background": "light"
     },
     "output_type": "display_data"
    }
   ],
   "source": [
    "from sklearn.metrics import plot_confusion_matrix\n",
    "import time\n",
    "import seaborn as sns\n",
    "start_time = time.time()\n",
    "from sklearn.metrics import confusion_matrix\n",
    "mlp_clf = MLPClassifier(\n",
    "    \n",
    "    hidden_layer_sizes=(150, 100, 50),\n",
    "    solver='adam',\n",
    "    alpha=0.0001, \n",
    "    batch_size='auto',\n",
    "    learning_rate='invscaling',\n",
    "    max_iter=100,\n",
    "    learning_rate_init = .18\n",
    ")\n",
    "\n",
    "mlp_clf.fit(trainX_scaled, trainY.ravel())\n",
    "y_pred = mlp_clf.predict(testX_scaled)\n",
    "print(\"--- %s seconds ---\" % (time.time() - start_time))\n",
    "fig = plot_confusion_matrix(mlp_clf, testX_scaled, testY, display_labels=mlp_clf.classes_)\n",
    "fig.figure_.suptitle(\"Confusion Matrix for Mushroom Dataset\")\n",
    "plt.show()\n",
    "\n",
    "\n",
    "cm = confusion_matrix(testY, y_pred)\n",
    "print(\" \")\n",
    "#print(\"Confusion Matrix (criterion='gini', max_depth=15, min_samples_split=8, splitter='random'):\")\n",
    "print(\"Confusion Matrix:\")\n",
    "x_axis_labels = [\"Edible\", \"Poisonous\"]\n",
    "y_axis_labels = [\"Edible\", \"Poisonous\"]\n",
    "f, ax = plt.subplots(figsize =(7,7))\n",
    "sns.heatmap(cm, annot = True, linewidths=0.2, linecolor=\"black\", fmt = \".0f\", ax=ax, cmap=\"Blues\", xticklabels=x_axis_labels, yticklabels=y_axis_labels)\n",
    "plt.xlabel(\"PREDICTED CLASS\")\n",
    "plt.ylabel(\"ACTUAL CLASS\")\n",
    "plt.title('Confusion Matrix for K-Nearest Neighbor')\n",
    "plt.savefig(\"dtcm2.png\", format='png', dpi=500, bbox_inches='tight')\n",
    "plt.show()\n"
   ]
  },
  {
   "cell_type": "code",
   "execution_count": 78,
   "id": "1e71ca70",
   "metadata": {
    "scrolled": true
   },
   "outputs": [
    {
     "name": "stdout",
     "output_type": "stream",
     "text": [
      "              precision    recall  f1-score   support\n",
      "\n",
      "         0.0       1.00      1.00      1.00       820\n",
      "         1.0       1.00      1.00      1.00       805\n",
      "\n",
      "    accuracy                           1.00      1625\n",
      "   macro avg       1.00      1.00      1.00      1625\n",
      "weighted avg       1.00      1.00      1.00      1625\n",
      "\n"
     ]
    }
   ],
   "source": [
    "\n",
    "print(classification_report(testY, y_pred))\n"
   ]
  },
  {
   "cell_type": "code",
   "execution_count": 10,
   "id": "6414eaa6",
   "metadata": {},
   "outputs": [
    {
     "data": {
      "image/png": "[encoded data removed]",
      "text/plain": [
       "<Figure size 432x288 with 1 Axes>"
      ]
     },
     "metadata": {
      "needs_background": "light"
     },
     "output_type": "display_data"
    }
   ],
   "source": [
    "plt.plot(mlp_clf.loss_curve_)\n",
    "plt.title(\"Loss Curve\", fontsize=14)\n",
    "plt.xlabel('Iterations')\n",
    "plt.ylabel('Cost')\n",
    "plt.show()"
   ]
  },
  {
   "cell_type": "code",
   "execution_count": 23,
   "id": "0d88d714",
   "metadata": {},
   "outputs": [
    {
     "name": "stdout",
     "output_type": "stream",
     "text": [
      "[1. 1. 1. 1. 1. 1. 1. 1. 1. 1.]\n",
      "cv_scores mean:1.0\n",
      "--- 12.149579763412476 seconds ---\n",
      "{'activation': 'tanh', 'alpha': 0.0001, 'hidden_layer_sizes': (150, 100, 50), 'learning_rate': 'constant', 'max_iter': 100, 'solver': 'adam'}\n"
     ]
    }
   ],
   "source": [
    "# Hyper Parameter Tuning\n",
    "import time\n",
    "start_time = time.time()\n",
    "\n",
    "from sklearn.model_selection import GridSearchCV\n",
    "\n",
    "param_grid = {\n",
    "    'hidden_layer_sizes': [(150,100,50), (120,80,40), (100,50,30)],\n",
    "    'max_iter': [100],\n",
    "    'activation': ['tanh'],\n",
    "    'solver': [ 'adam'],\n",
    "    'alpha': [0.0001],\n",
    "    'learning_rate': ['constant','adaptive'],\n",
    "}\n",
    "\n",
    "grid = GridSearchCV(mlp_clf, param_grid, n_jobs= -1, cv=10)\n",
    "grid.fit(trainX_scaled, trainY.ravel())\n",
    "\n",
    "print(cv_scores)\n",
    "print('cv_scores mean:{}'.format(np.mean(cv_scores)))\n",
    "\n",
    "print(\"--- %s seconds ---\" % (time.time() - start_time))\n",
    "print(grid.best_params_) "
   ]
  },
  {
   "cell_type": "code",
   "execution_count": 11,
   "id": "eec1b9fa",
   "metadata": {},
   "outputs": [
    {
     "name": "stdout",
     "output_type": "stream",
     "text": [
      "Accuracy: 1.00\n"
     ]
    }
   ],
   "source": [
    "grid_predictions = grid.predict(testX_scaled) \n",
    "\n",
    "print('Accuracy: {:.2f}'.format(accuracy_score(testY, grid_predictions)))"
   ]
  },
  {
   "cell_type": "code",
   "execution_count": 1,
   "id": "efafe0f5",
   "metadata": {},
   "outputs": [
    {
     "ename": "NameError",
     "evalue": "name 'testX_scaled' is not defined",
     "output_type": "error",
     "traceback": [
      "\u001b[1;31m---------------------------------------------------------------------------\u001b[0m",
      "\u001b[1;31mNameError\u001b[0m                                 Traceback (most recent call last)",
      "\u001b[1;32m~\\AppData\\Local\\Temp/ipykernel_2212/3600022417.py\u001b[0m in \u001b[0;36m<module>\u001b[1;34m\u001b[0m\n\u001b[0;32m      1\u001b[0m \u001b[1;32mfrom\u001b[0m \u001b[0msklearn\u001b[0m\u001b[1;33m.\u001b[0m\u001b[0mmetrics\u001b[0m \u001b[1;32mimport\u001b[0m \u001b[0mplot_confusion_matrix\u001b[0m\u001b[1;33m\u001b[0m\u001b[1;33m\u001b[0m\u001b[0m\n\u001b[1;32m----> 2\u001b[1;33m \u001b[0mfig\u001b[0m \u001b[1;33m=\u001b[0m \u001b[0mplot_confusion_matrix\u001b[0m\u001b[1;33m(\u001b[0m \u001b[0mtestX_scaled\u001b[0m\u001b[1;33m,\u001b[0m \u001b[0mtestY\u001b[0m\u001b[1;33m,\u001b[0m \u001b[0mdisplay_labels\u001b[0m\u001b[1;33m=\u001b[0m\u001b[0mmlp_clf\u001b[0m\u001b[1;33m.\u001b[0m\u001b[0mclasses_\u001b[0m\u001b[1;33m)\u001b[0m\u001b[1;33m\u001b[0m\u001b[1;33m\u001b[0m\u001b[0m\n\u001b[0m\u001b[0;32m      3\u001b[0m \u001b[0mfig\u001b[0m\u001b[1;33m.\u001b[0m\u001b[0mfigure_\u001b[0m\u001b[1;33m.\u001b[0m\u001b[0msuptitle\u001b[0m\u001b[1;33m(\u001b[0m\u001b[1;34m\"Confusion Matrix for Mushroom Dataset\"\u001b[0m\u001b[1;33m)\u001b[0m\u001b[1;33m\u001b[0m\u001b[1;33m\u001b[0m\u001b[0m\n\u001b[0;32m      4\u001b[0m \u001b[0mplt\u001b[0m\u001b[1;33m.\u001b[0m\u001b[0mshow\u001b[0m\u001b[1;33m(\u001b[0m\u001b[1;33m)\u001b[0m\u001b[1;33m\u001b[0m\u001b[1;33m\u001b[0m\u001b[0m\n",
      "\u001b[1;31mNameError\u001b[0m: name 'testX_scaled' is not defined"
     ]
    }
   ],
   "source": [
    "from sklearn.metrics import plot_confusion_matrix\n",
    "fig = plot_confusion_matrix( testX_scaled, testY, display_labels=mlp_clf.classes_)\n",
    "fig.figure_.suptitle(\"Confusion Matrix for Mushroom Dataset\")\n",
    "plt.show()"
   ]
  },
  {
   "cell_type": "code",
   "execution_count": 11,
   "id": "bd5e4271",
   "metadata": {},
   "outputs": [
    {
     "name": "stdout",
     "output_type": "stream",
     "text": [
      "--- 19.925235986709595 seconds ---\n",
      "[0.68511685 1.         1.         1.         1.         1.\n",
      " 1.         1.         0.74507389 1.        ]\n",
      "cv_scores mean:0.9430190742794128\n",
      " \n",
      "Confusion Matrix:\n"
     ]
    },
    {
     "data": {
      "image/png": "[encoded data removed]",
      "text/plain": [
       "<Figure size 504x504 with 2 Axes>"
      ]
     },
     "metadata": {
      "needs_background": "light"
     },
     "output_type": "display_data"
    },
    {
     "name": "stdout",
     "output_type": "stream",
     "text": [
      "--- 20.484572172164917 seconds ---\n",
      "Accuracy: 1.00\n"
     ]
    }
   ],
   "source": [
    "\n",
    "from sklearn.model_selection import cross_val_score\n",
    "from sklearn.neural_network import MLPClassifier\n",
    "\n",
    "sc=StandardScaler()\n",
    "\n",
    "scaler = sc.fit(trainX)\n",
    "trainX_scaled = scaler.transform(trainX)\n",
    "testX_scaled = scaler.transform(testX)\n",
    "\n",
    "import time\n",
    "start_time = time.time()\n",
    "\n",
    "mlp_clf = MLPClassifier(hidden_layer_sizes=(150, 100, 50),solver='adam', alpha=0.0001, batch_size='auto', learning_rate='constant', max_iter=100)\n",
    "\n",
    "mlp_clf.fit(trainX_scaled, trainY.ravel())\n",
    "\n",
    "\n",
    "cv_scores = cross_val_score(mlp_clf,  encodedx, encodedy.ravel(), cv=10)\n",
    "#print each cv score (accuracy) and average them\n",
    "print(\"--- %s seconds ---\" % (time.time() - start_time))\n",
    "print(cv_scores)\n",
    "print('cv_scores mean:{}'.format(np.mean(cv_scores)))\n",
    "\n",
    "from sklearn.metrics import accuracy_score\n",
    "y_pred = mlp_clf.predict(testX_scaled)\n",
    "\n",
    "\n",
    "\n",
    "cm = confusion_matrix(testY, y_pred)\n",
    "print(\" \")\n",
    "#print(\"Confusion Matrix (criterion='gini', max_depth=15, min_samples_split=8, splitter='random'):\")\n",
    "print(\"Confusion Matrix:\")\n",
    "x_axis_labels = [\"Edible\", \"Poisonous\"]\n",
    "y_axis_labels = [\"Edible\", \"Poisonous\"]\n",
    "f, ax = plt.subplots(figsize =(7,7))\n",
    "sns.heatmap(cm, annot = True, linewidths=0.2, linecolor=\"black\", fmt = \".0f\", ax=ax, cmap=\"Blues\", xticklabels=x_axis_labels, yticklabels=y_axis_labels)\n",
    "plt.xlabel(\"PREDICTED CLASS\")\n",
    "plt.ylabel(\"ACTUAL CLASS\")\n",
    "plt.title('Confusion Matrix for K-Nearest Neighbor')\n",
    "plt.savefig(\"dtcm2.png\", format='png', dpi=500, bbox_inches='tight')\n",
    "plt.show()\n",
    "print(\"--- %s seconds ---\" % (time.time() - start_time))\n",
    "\n",
    "\n",
    "print('Accuracy: {:.2f}'.format(accuracy_score(testY, y_pred)))"
   ]
  },
  {
   "cell_type": "code",
   "execution_count": 43,
   "id": "4579c332",
   "metadata": {},
   "outputs": [
    {
     "data": {
      "text/plain": [
       "0.938216118614388"
      ]
     },
     "execution_count": 43,
     "metadata": {},
     "output_type": "execute_result"
    }
   ],
   "source": [
    "0.9448663649198068\n",
    "0.9446200595010875\n",
    "0.938216118614388"
   ]
  },
  {
   "cell_type": "code",
   "execution_count": null,
   "id": "a2f7b9bb",
   "metadata": {},
   "outputs": [],
   "source": [
    "0.9975384382337348\n",
    "0.998155722184352\n"
   ]
  }
 ],
 "metadata": {
  "kernelspec": {
   "display_name": "Python 3 (ipykernel)",
   "language": "python",
   "name": "python3"
  },
  "language_info": {
   "codemirror_mode": {
    "name": "ipython",
    "version": 3
   },
   "file_extension": ".py",
   "mimetype": "text/x-python",
   "name": "python",
   "nbconvert_exporter": "python",
   "pygments_lexer": "ipython3",
   "version": "3.9.7"
  }
 },
 "nbformat": 4,
 "nbformat_minor": 5
}
